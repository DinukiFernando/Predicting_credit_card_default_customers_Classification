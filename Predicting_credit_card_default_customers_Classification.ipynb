{
  "nbformat": 4,
  "nbformat_minor": 0,
  "metadata": {
    "colab": {
      "provenance": [],
      "include_colab_link": true
    },
    "kernelspec": {
      "name": "python3",
      "display_name": "Python 3"
    },
    "language_info": {
      "name": "python"
    }
  },
  "cells": [
    {
      "cell_type": "markdown",
      "metadata": {
        "id": "view-in-github",
        "colab_type": "text"
      },
      "source": [
        "<a href=\"https://colab.research.google.com/github/DinukiFernando/Predicting_credit_card_default_customers_Classification/blob/main/Predicting_credit_card_default_customers_Classification.ipynb\" target=\"_parent\"><img src=\"https://colab.research.google.com/assets/colab-badge.svg\" alt=\"Open In Colab\"/></a>"
      ]
    },
    {
      "cell_type": "code",
      "execution_count": null,
      "metadata": {
        "id": "GQqVFIb7eSac"
      },
      "outputs": [],
      "source": [
        "import pandas as pd\n",
        "from sklearn.model_selection import train_test_split\n",
        "from sklearn.preprocessing import LabelEncoder, StandardScaler\n",
        "from tensorflow.keras.models import Sequential\n",
        "from tensorflow.keras.layers import Dense"
      ]
    },
    {
      "cell_type": "markdown",
      "source": [
        "Load the dataset"
      ],
      "metadata": {
        "id": "8g3LkMJYesE6"
      }
    },
    {
      "cell_type": "code",
      "source": [
        "data = pd.read_csv('/content/DefaultData.csv')"
      ],
      "metadata": {
        "id": "ubAbByKNedRz"
      },
      "execution_count": null,
      "outputs": []
    },
    {
      "cell_type": "markdown",
      "source": [
        "Preprocessing"
      ],
      "metadata": {
        "id": "mj0QeSPte0vX"
      }
    },
    {
      "cell_type": "code",
      "source": [
        "# Convert categorical variables to numerical using LabelEncoder\n",
        "label_encoder = LabelEncoder()\n",
        "data['default'] = label_encoder.fit_transform(data['default'])\n",
        "data['student'] = label_encoder.fit_transform(data['student'])"
      ],
      "metadata": {
        "id": "mryFDR4IeuXQ"
      },
      "execution_count": null,
      "outputs": []
    },
    {
      "cell_type": "code",
      "source": [
        "# Split data into features and target\n",
        "X = data.drop(columns=['default'])\n",
        "y = data['default']\n"
      ],
      "metadata": {
        "id": "oxUOiFRKe4r9"
      },
      "execution_count": null,
      "outputs": []
    },
    {
      "cell_type": "code",
      "source": [
        "# Split data into train and test sets\n",
        "X_train, X_test, y_train, y_test = train_test_split(X, y, test_size=0.2)"
      ],
      "metadata": {
        "id": "iG6t6FIKe9i-"
      },
      "execution_count": null,
      "outputs": []
    },
    {
      "cell_type": "markdown",
      "source": [
        "Build the neural network model"
      ],
      "metadata": {
        "id": "Z8F0ScPTglCG"
      }
    },
    {
      "cell_type": "code",
      "source": [
        "model = Sequential()\n",
        "model.add(Dense(128, input_dim=X_train.shape[1], activation='relu'))\n",
        "model.add(Dense(64, activation='relu'))\n",
        "model.add(Dense(32, activation='relu'))\n",
        "model.add(Dense(1, activation='sigmoid'))"
      ],
      "metadata": {
        "id": "pl4GTRvUgi8N"
      },
      "execution_count": null,
      "outputs": []
    },
    {
      "cell_type": "code",
      "source": [
        "# Compile the model\n",
        "model.compile(loss='binary_crossentropy', optimizer='adam', metrics=['accuracy'])"
      ],
      "metadata": {
        "id": "FaZuAi-WhDSD"
      },
      "execution_count": null,
      "outputs": []
    },
    {
      "cell_type": "code",
      "source": [
        "# Train the model\n",
        "model.fit(X_train, y_train, epochs=100, batch_size=32, verbose=1)"
      ],
      "metadata": {
        "colab": {
          "base_uri": "https://localhost:8080/"
        },
        "id": "kstaeDExhGJ2",
        "outputId": "55543ea6-80ec-4095-b23c-9920fb48ec2d"
      },
      "execution_count": null,
      "outputs": [
        {
          "output_type": "stream",
          "name": "stdout",
          "text": [
            "Epoch 1/100\n",
            "250/250 [==============================] - 1s 2ms/step - loss: 29.0022 - accuracy: 0.9215\n",
            "Epoch 2/100\n",
            "250/250 [==============================] - 1s 2ms/step - loss: 12.7753 - accuracy: 0.9237\n",
            "Epoch 3/100\n",
            "250/250 [==============================] - 0s 2ms/step - loss: 7.4769 - accuracy: 0.9260\n",
            "Epoch 4/100\n",
            "250/250 [==============================] - 0s 2ms/step - loss: 4.5722 - accuracy: 0.9276\n",
            "Epoch 5/100\n",
            "250/250 [==============================] - 0s 2ms/step - loss: 3.0494 - accuracy: 0.9314\n",
            "Epoch 6/100\n",
            "250/250 [==============================] - 1s 2ms/step - loss: 2.7389 - accuracy: 0.9245\n",
            "Epoch 7/100\n",
            "250/250 [==============================] - 1s 2ms/step - loss: 2.1671 - accuracy: 0.9309\n",
            "Epoch 8/100\n",
            "250/250 [==============================] - 1s 2ms/step - loss: 1.2683 - accuracy: 0.9279\n",
            "Epoch 9/100\n",
            "250/250 [==============================] - 1s 2ms/step - loss: 0.9205 - accuracy: 0.9337\n",
            "Epoch 10/100\n",
            "250/250 [==============================] - 1s 3ms/step - loss: 0.6754 - accuracy: 0.9336\n",
            "Epoch 11/100\n",
            "250/250 [==============================] - 1s 3ms/step - loss: 0.4181 - accuracy: 0.9471\n",
            "Epoch 12/100\n",
            "250/250 [==============================] - 1s 3ms/step - loss: 1.0060 - accuracy: 0.9342\n",
            "Epoch 13/100\n",
            "250/250 [==============================] - 1s 2ms/step - loss: 0.2807 - accuracy: 0.9505\n",
            "Epoch 14/100\n",
            "250/250 [==============================] - 1s 2ms/step - loss: 0.2998 - accuracy: 0.9498\n",
            "Epoch 15/100\n",
            "250/250 [==============================] - 0s 2ms/step - loss: 0.2109 - accuracy: 0.9592\n",
            "Epoch 16/100\n",
            "250/250 [==============================] - 0s 2ms/step - loss: 0.1807 - accuracy: 0.9634\n",
            "Epoch 17/100\n",
            "250/250 [==============================] - 1s 2ms/step - loss: 0.3048 - accuracy: 0.9554\n",
            "Epoch 18/100\n",
            "250/250 [==============================] - 1s 2ms/step - loss: 0.1880 - accuracy: 0.9619\n",
            "Epoch 19/100\n",
            "250/250 [==============================] - 1s 2ms/step - loss: 0.1766 - accuracy: 0.9659\n",
            "Epoch 20/100\n",
            "250/250 [==============================] - 0s 2ms/step - loss: 0.1691 - accuracy: 0.9660\n",
            "Epoch 21/100\n",
            "250/250 [==============================] - 1s 2ms/step - loss: 0.1876 - accuracy: 0.9644\n",
            "Epoch 22/100\n",
            "250/250 [==============================] - 0s 2ms/step - loss: 0.1704 - accuracy: 0.9655\n",
            "Epoch 23/100\n",
            "250/250 [==============================] - 1s 2ms/step - loss: 0.1555 - accuracy: 0.9663\n",
            "Epoch 24/100\n",
            "250/250 [==============================] - 0s 2ms/step - loss: 0.1501 - accuracy: 0.9663\n",
            "Epoch 25/100\n",
            "250/250 [==============================] - 0s 2ms/step - loss: 0.1452 - accuracy: 0.9663\n",
            "Epoch 26/100\n",
            "250/250 [==============================] - 0s 2ms/step - loss: 0.1431 - accuracy: 0.9663\n",
            "Epoch 27/100\n",
            "250/250 [==============================] - 0s 2ms/step - loss: 0.1413 - accuracy: 0.9663\n",
            "Epoch 28/100\n",
            "250/250 [==============================] - 0s 2ms/step - loss: 0.1471 - accuracy: 0.9663\n",
            "Epoch 29/100\n",
            "250/250 [==============================] - 1s 2ms/step - loss: 0.1564 - accuracy: 0.9663\n",
            "Epoch 30/100\n",
            "250/250 [==============================] - 0s 2ms/step - loss: 0.1501 - accuracy: 0.9663\n",
            "Epoch 31/100\n",
            "250/250 [==============================] - 1s 2ms/step - loss: 0.1478 - accuracy: 0.9663\n",
            "Epoch 32/100\n",
            "250/250 [==============================] - 1s 2ms/step - loss: 0.1476 - accuracy: 0.9663\n",
            "Epoch 33/100\n",
            "250/250 [==============================] - 1s 3ms/step - loss: 0.1476 - accuracy: 0.9663\n",
            "Epoch 34/100\n",
            "250/250 [==============================] - 1s 3ms/step - loss: 0.1476 - accuracy: 0.9663\n",
            "Epoch 35/100\n",
            "250/250 [==============================] - 1s 3ms/step - loss: 0.1476 - accuracy: 0.9663\n",
            "Epoch 36/100\n",
            "250/250 [==============================] - 1s 3ms/step - loss: 0.1476 - accuracy: 0.9663\n",
            "Epoch 37/100\n",
            "250/250 [==============================] - 0s 2ms/step - loss: 0.1476 - accuracy: 0.9663\n",
            "Epoch 38/100\n",
            "250/250 [==============================] - 0s 2ms/step - loss: 0.1532 - accuracy: 0.9663\n",
            "Epoch 39/100\n",
            "250/250 [==============================] - 1s 2ms/step - loss: 0.1825 - accuracy: 0.9663\n",
            "Epoch 40/100\n",
            "250/250 [==============================] - 1s 2ms/step - loss: 0.1476 - accuracy: 0.9663\n",
            "Epoch 41/100\n",
            "250/250 [==============================] - 1s 2ms/step - loss: 0.1476 - accuracy: 0.9663\n",
            "Epoch 42/100\n",
            "250/250 [==============================] - 1s 2ms/step - loss: 0.1476 - accuracy: 0.9663\n",
            "Epoch 43/100\n",
            "250/250 [==============================] - 1s 2ms/step - loss: 0.1476 - accuracy: 0.9663\n",
            "Epoch 44/100\n",
            "250/250 [==============================] - 0s 2ms/step - loss: 0.1476 - accuracy: 0.9663\n",
            "Epoch 45/100\n",
            "250/250 [==============================] - 0s 2ms/step - loss: 0.1476 - accuracy: 0.9663\n",
            "Epoch 46/100\n",
            "250/250 [==============================] - 1s 2ms/step - loss: 0.1476 - accuracy: 0.9663\n",
            "Epoch 47/100\n",
            "250/250 [==============================] - 1s 2ms/step - loss: 0.1476 - accuracy: 0.9663\n",
            "Epoch 48/100\n",
            "250/250 [==============================] - 1s 2ms/step - loss: 0.1476 - accuracy: 0.9663\n",
            "Epoch 49/100\n",
            "250/250 [==============================] - 1s 2ms/step - loss: 0.1476 - accuracy: 0.9663\n",
            "Epoch 50/100\n",
            "250/250 [==============================] - 0s 2ms/step - loss: 0.1476 - accuracy: 0.9663\n",
            "Epoch 51/100\n",
            "250/250 [==============================] - 1s 2ms/step - loss: 0.1476 - accuracy: 0.9663\n",
            "Epoch 52/100\n",
            "250/250 [==============================] - 1s 2ms/step - loss: 0.1477 - accuracy: 0.9663\n",
            "Epoch 53/100\n",
            "250/250 [==============================] - 0s 2ms/step - loss: 0.1476 - accuracy: 0.9663\n",
            "Epoch 54/100\n",
            "250/250 [==============================] - 1s 2ms/step - loss: 0.1476 - accuracy: 0.9663\n",
            "Epoch 55/100\n",
            "250/250 [==============================] - 1s 2ms/step - loss: 0.1476 - accuracy: 0.9663\n",
            "Epoch 56/100\n",
            "250/250 [==============================] - 1s 3ms/step - loss: 0.1476 - accuracy: 0.9663\n",
            "Epoch 57/100\n",
            "250/250 [==============================] - 1s 3ms/step - loss: 0.1476 - accuracy: 0.9663\n",
            "Epoch 58/100\n",
            "250/250 [==============================] - 1s 3ms/step - loss: 0.1476 - accuracy: 0.9663\n",
            "Epoch 59/100\n",
            "250/250 [==============================] - 1s 2ms/step - loss: 0.1476 - accuracy: 0.9663\n",
            "Epoch 60/100\n",
            "250/250 [==============================] - 0s 2ms/step - loss: 0.1476 - accuracy: 0.9663\n",
            "Epoch 61/100\n",
            "250/250 [==============================] - 1s 2ms/step - loss: 0.1476 - accuracy: 0.9663\n",
            "Epoch 62/100\n",
            "250/250 [==============================] - 0s 2ms/step - loss: 0.1476 - accuracy: 0.9663\n",
            "Epoch 63/100\n",
            "250/250 [==============================] - 0s 2ms/step - loss: 0.1476 - accuracy: 0.9663\n",
            "Epoch 64/100\n",
            "250/250 [==============================] - 0s 2ms/step - loss: 0.1476 - accuracy: 0.9663\n",
            "Epoch 65/100\n",
            "250/250 [==============================] - 0s 2ms/step - loss: 0.1477 - accuracy: 0.9663\n",
            "Epoch 66/100\n",
            "250/250 [==============================] - 0s 2ms/step - loss: 0.1476 - accuracy: 0.9663\n",
            "Epoch 67/100\n",
            "250/250 [==============================] - 0s 2ms/step - loss: 0.1477 - accuracy: 0.9663\n",
            "Epoch 68/100\n",
            "250/250 [==============================] - 0s 2ms/step - loss: 0.1476 - accuracy: 0.9663\n",
            "Epoch 69/100\n",
            "250/250 [==============================] - 0s 2ms/step - loss: 0.1476 - accuracy: 0.9663\n",
            "Epoch 70/100\n",
            "250/250 [==============================] - 1s 2ms/step - loss: 0.1477 - accuracy: 0.9663\n",
            "Epoch 71/100\n",
            "250/250 [==============================] - 0s 2ms/step - loss: 0.1477 - accuracy: 0.9663\n",
            "Epoch 72/100\n",
            "250/250 [==============================] - 1s 2ms/step - loss: 0.1476 - accuracy: 0.9663\n",
            "Epoch 73/100\n",
            "250/250 [==============================] - 0s 2ms/step - loss: 0.1476 - accuracy: 0.9663\n",
            "Epoch 74/100\n",
            "250/250 [==============================] - 0s 2ms/step - loss: 0.1477 - accuracy: 0.9663\n",
            "Epoch 75/100\n",
            "250/250 [==============================] - 1s 2ms/step - loss: 0.1477 - accuracy: 0.9663\n",
            "Epoch 76/100\n",
            "250/250 [==============================] - 1s 2ms/step - loss: 0.1477 - accuracy: 0.9663\n",
            "Epoch 77/100\n",
            "250/250 [==============================] - 1s 2ms/step - loss: 0.1476 - accuracy: 0.9663\n",
            "Epoch 78/100\n",
            "250/250 [==============================] - 0s 2ms/step - loss: 0.1476 - accuracy: 0.9663\n",
            "Epoch 79/100\n",
            "250/250 [==============================] - 1s 3ms/step - loss: 0.1477 - accuracy: 0.9663\n",
            "Epoch 80/100\n",
            "250/250 [==============================] - 1s 3ms/step - loss: 0.1477 - accuracy: 0.9663\n",
            "Epoch 81/100\n",
            "250/250 [==============================] - 1s 3ms/step - loss: 0.1477 - accuracy: 0.9663\n",
            "Epoch 82/100\n",
            "250/250 [==============================] - 1s 3ms/step - loss: 0.1477 - accuracy: 0.9663\n",
            "Epoch 83/100\n",
            "250/250 [==============================] - 1s 2ms/step - loss: 0.1477 - accuracy: 0.9663\n",
            "Epoch 84/100\n",
            "250/250 [==============================] - 0s 2ms/step - loss: 0.1476 - accuracy: 0.9663\n",
            "Epoch 85/100\n",
            "250/250 [==============================] - 1s 2ms/step - loss: 0.1477 - accuracy: 0.9663\n",
            "Epoch 86/100\n",
            "250/250 [==============================] - 0s 2ms/step - loss: 0.1477 - accuracy: 0.9663\n",
            "Epoch 87/100\n",
            "250/250 [==============================] - 1s 2ms/step - loss: 0.1477 - accuracy: 0.9663\n",
            "Epoch 88/100\n",
            "250/250 [==============================] - 0s 2ms/step - loss: 0.1476 - accuracy: 0.9663\n",
            "Epoch 89/100\n",
            "250/250 [==============================] - 1s 2ms/step - loss: 0.1477 - accuracy: 0.9663\n",
            "Epoch 90/100\n",
            "250/250 [==============================] - 0s 2ms/step - loss: 0.1476 - accuracy: 0.9663\n",
            "Epoch 91/100\n",
            "250/250 [==============================] - 1s 2ms/step - loss: 0.1476 - accuracy: 0.9663\n",
            "Epoch 92/100\n",
            "250/250 [==============================] - 1s 2ms/step - loss: 0.1477 - accuracy: 0.9663\n",
            "Epoch 93/100\n",
            "250/250 [==============================] - 1s 2ms/step - loss: 0.1476 - accuracy: 0.9663\n",
            "Epoch 94/100\n",
            "250/250 [==============================] - 0s 2ms/step - loss: 0.1477 - accuracy: 0.9663\n",
            "Epoch 95/100\n",
            "250/250 [==============================] - 0s 2ms/step - loss: 0.1476 - accuracy: 0.9663\n",
            "Epoch 96/100\n",
            "250/250 [==============================] - 1s 2ms/step - loss: 0.1477 - accuracy: 0.9663\n",
            "Epoch 97/100\n",
            "250/250 [==============================] - 1s 2ms/step - loss: 0.1476 - accuracy: 0.9663\n",
            "Epoch 98/100\n",
            "250/250 [==============================] - 1s 2ms/step - loss: 0.1477 - accuracy: 0.9663\n",
            "Epoch 99/100\n",
            "250/250 [==============================] - 1s 2ms/step - loss: 0.1478 - accuracy: 0.9663\n",
            "Epoch 100/100\n",
            "250/250 [==============================] - 0s 2ms/step - loss: 0.1477 - accuracy: 0.9663\n"
          ]
        },
        {
          "output_type": "execute_result",
          "data": {
            "text/plain": [
              "<keras.src.callbacks.History at 0x789449b23970>"
            ]
          },
          "metadata": {},
          "execution_count": 34
        }
      ]
    },
    {
      "cell_type": "code",
      "source": [
        "# Evaluate the model\n",
        "loss, accuracy = model.evaluate(X_test, y_test)\n",
        "print('Test Accuracy:', accuracy)"
      ],
      "metadata": {
        "colab": {
          "base_uri": "https://localhost:8080/"
        },
        "id": "2De3clrqhOpB",
        "outputId": "ca61528a-ffb4-4f03-fabe-1b08fc375305"
      },
      "execution_count": null,
      "outputs": [
        {
          "output_type": "stream",
          "name": "stdout",
          "text": [
            "63/63 [==============================] - 0s 2ms/step - loss: 0.1400 - accuracy: 0.9685\n",
            "Test Accuracy: 0.968500018119812\n"
          ]
        }
      ]
    },
    {
      "cell_type": "code",
      "source": [
        "# Make predictions\n",
        "predictions = model.predict(X_test)\n",
        "\n",
        "# Convert predictions to binary values (0 or 1)\n",
        "binary_predictions = (predictions > 0.5).astype(int)\n",
        "\n",
        "# Convert actual values to binary (0 or 1)\n",
        "actual_values = y_test.values\n",
        "\n",
        "# Compare actual vs predicted values\n",
        "results = pd.DataFrame({'Actual': actual_values, 'Predicted': binary_predictions.flatten()})\n",
        "\n",
        "# Print the first few rows of results\n",
        "print(results.tail(50))"
      ],
      "metadata": {
        "colab": {
          "base_uri": "https://localhost:8080/"
        },
        "id": "uNoAfZp0hVVV",
        "outputId": "8c95ea76-d17b-4072-a1b9-cbb3dd347af9"
      },
      "execution_count": null,
      "outputs": [
        {
          "output_type": "stream",
          "name": "stdout",
          "text": [
            "63/63 [==============================] - 0s 2ms/step\n",
            "      Actual  Predicted\n",
            "1950       0          0\n",
            "1951       0          0\n",
            "1952       0          0\n",
            "1953       0          0\n",
            "1954       0          0\n",
            "1955       0          0\n",
            "1956       0          0\n",
            "1957       0          0\n",
            "1958       0          0\n",
            "1959       0          0\n",
            "1960       0          0\n",
            "1961       0          0\n",
            "1962       0          0\n",
            "1963       0          0\n",
            "1964       0          0\n",
            "1965       0          0\n",
            "1966       0          0\n",
            "1967       0          0\n",
            "1968       0          0\n",
            "1969       0          0\n",
            "1970       0          0\n",
            "1971       0          0\n",
            "1972       0          0\n",
            "1973       0          0\n",
            "1974       0          0\n",
            "1975       0          0\n",
            "1976       0          0\n",
            "1977       0          0\n",
            "1978       0          0\n",
            "1979       0          0\n",
            "1980       0          0\n",
            "1981       0          0\n",
            "1982       1          0\n",
            "1983       0          0\n",
            "1984       0          0\n",
            "1985       0          0\n",
            "1986       0          0\n",
            "1987       0          0\n",
            "1988       0          0\n",
            "1989       0          0\n",
            "1990       0          0\n",
            "1991       0          0\n",
            "1992       0          0\n",
            "1993       0          0\n",
            "1994       0          0\n",
            "1995       0          0\n",
            "1996       0          0\n",
            "1997       0          0\n",
            "1998       0          0\n",
            "1999       0          0\n"
          ]
        }
      ]
    }
  ]
}